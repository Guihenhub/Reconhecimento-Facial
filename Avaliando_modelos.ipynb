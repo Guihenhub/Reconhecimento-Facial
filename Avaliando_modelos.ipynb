{
  "nbformat": 4,
  "nbformat_minor": 0,
  "metadata": {
    "colab": {
      "name": "Avaliando modelos.ipynb",
      "provenance": [],
      "collapsed_sections": [],
      "toc_visible": true
    },
    "kernelspec": {
      "name": "python3",
      "display_name": "Python 3"
    }
  },
  "cells": [
    {
      "cell_type": "code",
      "metadata": {
        "id": "QWeCIgTwqDH4"
      },
      "source": [
        "#!pip install tensorflow==2.3"
      ],
      "execution_count": null,
      "outputs": []
    },
    {
      "cell_type": "code",
      "metadata": {
        "id": "BgApHSu6gSgq"
      },
      "source": [
        "import numpy as np\n",
        "import pandas as pd\n",
        "\n",
        "import matplotlib.pyplot as plt\n",
        "%matplotlib inline"
      ],
      "execution_count": null,
      "outputs": []
    },
    {
      "cell_type": "code",
      "metadata": {
        "id": "aakKFi0QgfY-"
      },
      "source": [
        "df = pd.read_csv(\"/content/drive/My Drive/Colab Notebooks/faces.csv\")"
      ],
      "execution_count": null,
      "outputs": []
    },
    {
      "cell_type": "code",
      "metadata": {
        "id": "fLvK8x7GhIH2"
      },
      "source": [
        "df"
      ],
      "execution_count": null,
      "outputs": []
    },
    {
      "cell_type": "code",
      "metadata": {
        "id": "xN5ErnqWht-c"
      },
      "source": [
        "df.drop(df.columns[[0]],axis=1,inplace=True)\n",
        "X = np.array(df.drop(\"target\", axis=1))"
      ],
      "execution_count": null,
      "outputs": []
    },
    {
      "cell_type": "code",
      "metadata": {
        "id": "xhxVk9dW7XDF",
        "outputId": "5a1aa359-2e6b-4336-9060-03c8b9327780",
        "colab": {
          "base_uri": "https://localhost:8080/",
          "height": 34
        }
      },
      "source": [
        "X.shape"
      ],
      "execution_count": null,
      "outputs": [
        {
          "output_type": "execute_result",
          "data": {
            "text/plain": [
              "(18, 128)"
            ]
          },
          "metadata": {
            "tags": []
          },
          "execution_count": 171
        }
      ]
    },
    {
      "cell_type": "code",
      "metadata": {
        "id": "IiHNV2SIh2sn",
        "outputId": "1833d303-bbda-411f-cbab-2474deb9e080",
        "colab": {
          "base_uri": "https://localhost:8080/",
          "height": 34
        }
      },
      "source": [
        "X.shape "
      ],
      "execution_count": null,
      "outputs": [
        {
          "output_type": "execute_result",
          "data": {
            "text/plain": [
              "(18, 128)"
            ]
          },
          "metadata": {
            "tags": []
          },
          "execution_count": 172
        }
      ]
    },
    {
      "cell_type": "code",
      "metadata": {
        "id": "LFT4tch7h6wy"
      },
      "source": [
        "y = np.array(df.target)"
      ],
      "execution_count": null,
      "outputs": []
    },
    {
      "cell_type": "code",
      "metadata": {
        "id": "ydRDbN1Fh_Nr",
        "outputId": "2ee31579-ef73-4428-810d-3e5811f6608d",
        "colab": {
          "base_uri": "https://localhost:8080/",
          "height": 102
        }
      },
      "source": [
        "y"
      ],
      "execution_count": null,
      "outputs": [
        {
          "output_type": "execute_result",
          "data": {
            "text/plain": [
              "array(['BillGates', 'BillGates', 'BillGates', 'BillGates', 'BillGates',\n",
              "       'BillGates', 'LarryPage', 'LarryPage', 'LarryPage', 'LarryPage',\n",
              "       'LarryPage', 'LarryPage', 'MarkZuckerberg', 'MarkZuckerberg',\n",
              "       'MarkZuckerberg', 'MarkZuckerberg', 'MarkZuckerberg',\n",
              "       'MarkZuckerberg'], dtype=object)"
            ]
          },
          "metadata": {
            "tags": []
          },
          "execution_count": 174
        }
      ]
    },
    {
      "cell_type": "markdown",
      "metadata": {
        "id": "Mp1x0vWsiuXK"
      },
      "source": [
        "### Misturando tudo\n"
      ]
    },
    {
      "cell_type": "code",
      "metadata": {
        "id": "W8QQ1iaQiymr"
      },
      "source": [
        "from sklearn.utils import shuffle"
      ],
      "execution_count": null,
      "outputs": []
    },
    {
      "cell_type": "code",
      "metadata": {
        "id": "CVh9PSBei6Cm"
      },
      "source": [
        "trainX, trainY = shuffle(X, y, random_state = 0)"
      ],
      "execution_count": null,
      "outputs": []
    },
    {
      "cell_type": "code",
      "metadata": {
        "id": "uB0RVmKyjDp1",
        "outputId": "7269ac8c-dbf6-410a-cd3d-c0f2a683db50",
        "colab": {
          "base_uri": "https://localhost:8080/",
          "height": 102
        }
      },
      "source": [
        "trainY"
      ],
      "execution_count": null,
      "outputs": [
        {
          "output_type": "execute_result",
          "data": {
            "text/plain": [
              "array(['BillGates', 'LarryPage', 'LarryPage', 'LarryPage',\n",
              "       'MarkZuckerberg', 'BillGates', 'BillGates', 'MarkZuckerberg',\n",
              "       'MarkZuckerberg', 'LarryPage', 'LarryPage', 'MarkZuckerberg',\n",
              "       'LarryPage', 'BillGates', 'BillGates', 'BillGates',\n",
              "       'MarkZuckerberg', 'MarkZuckerberg'], dtype=object)"
            ]
          },
          "metadata": {
            "tags": []
          },
          "execution_count": 177
        }
      ]
    },
    {
      "cell_type": "markdown",
      "metadata": {
        "id": "GvNZOR_LjRFw"
      },
      "source": [
        "### Tratar labels - Dicretização"
      ]
    },
    {
      "cell_type": "code",
      "metadata": {
        "id": "PbBDWPrujUWu"
      },
      "source": [
        "from sklearn.preprocessing import LabelEncoder"
      ],
      "execution_count": null,
      "outputs": []
    },
    {
      "cell_type": "code",
      "metadata": {
        "id": "xEEI5XxUkATS"
      },
      "source": [
        "out_encoder = LabelEncoder()"
      ],
      "execution_count": null,
      "outputs": []
    },
    {
      "cell_type": "code",
      "metadata": {
        "id": "v2ZBFgA8kHnL",
        "outputId": "3c81e607-35ae-457a-df62-32d4d960a496",
        "colab": {
          "base_uri": "https://localhost:8080/",
          "height": 34
        }
      },
      "source": [
        "out_encoder.fit(trainY)"
      ],
      "execution_count": null,
      "outputs": [
        {
          "output_type": "execute_result",
          "data": {
            "text/plain": [
              "LabelEncoder()"
            ]
          },
          "metadata": {
            "tags": []
          },
          "execution_count": 180
        }
      ]
    },
    {
      "cell_type": "code",
      "metadata": {
        "id": "45DTi5cBkMgu"
      },
      "source": [
        "trainY = out_encoder.transform(trainY)"
      ],
      "execution_count": null,
      "outputs": []
    },
    {
      "cell_type": "code",
      "metadata": {
        "id": "awucbPIYka3g",
        "outputId": "381fff4b-e550-4811-f12d-221f08a1e4c0",
        "colab": {
          "base_uri": "https://localhost:8080/",
          "height": 34
        }
      },
      "source": [
        "trainY"
      ],
      "execution_count": null,
      "outputs": [
        {
          "output_type": "execute_result",
          "data": {
            "text/plain": [
              "array([0, 1, 1, 1, 2, 0, 0, 2, 2, 1, 1, 2, 1, 0, 0, 0, 2, 2])"
            ]
          },
          "metadata": {
            "tags": []
          },
          "execution_count": 182
        }
      ]
    },
    {
      "cell_type": "markdown",
      "metadata": {
        "id": "5t_JkEVWlNPr"
      },
      "source": [
        "## Validações"
      ]
    },
    {
      "cell_type": "code",
      "metadata": {
        "id": "ILj0Qk2ulQuM"
      },
      "source": [
        "df_val = pd.read_csv(\"/content/drive/My Drive/Colab Notebooks/faces_validation.csv\")"
      ],
      "execution_count": null,
      "outputs": []
    },
    {
      "cell_type": "code",
      "metadata": {
        "id": "dmQHb03IlW0c",
        "outputId": "7f88ec2c-fc07-4d28-a3b3-465294e3044f",
        "colab": {
          "base_uri": "https://localhost:8080/",
          "height": 270
        }
      },
      "source": [
        "df_val.tail()"
      ],
      "execution_count": null,
      "outputs": [
        {
          "output_type": "execute_result",
          "data": {
            "text/html": [
              "<div>\n",
              "<style scoped>\n",
              "    .dataframe tbody tr th:only-of-type {\n",
              "        vertical-align: middle;\n",
              "    }\n",
              "\n",
              "    .dataframe tbody tr th {\n",
              "        vertical-align: top;\n",
              "    }\n",
              "\n",
              "    .dataframe thead th {\n",
              "        text-align: right;\n",
              "    }\n",
              "</style>\n",
              "<table border=\"1\" class=\"dataframe\">\n",
              "  <thead>\n",
              "    <tr style=\"text-align: right;\">\n",
              "      <th></th>\n",
              "      <th>Unnamed: 0</th>\n",
              "      <th>0</th>\n",
              "      <th>1</th>\n",
              "      <th>2</th>\n",
              "      <th>3</th>\n",
              "      <th>4</th>\n",
              "      <th>5</th>\n",
              "      <th>6</th>\n",
              "      <th>7</th>\n",
              "      <th>8</th>\n",
              "      <th>9</th>\n",
              "      <th>10</th>\n",
              "      <th>11</th>\n",
              "      <th>12</th>\n",
              "      <th>13</th>\n",
              "      <th>14</th>\n",
              "      <th>15</th>\n",
              "      <th>16</th>\n",
              "      <th>17</th>\n",
              "      <th>18</th>\n",
              "      <th>19</th>\n",
              "      <th>20</th>\n",
              "      <th>21</th>\n",
              "      <th>22</th>\n",
              "      <th>23</th>\n",
              "      <th>24</th>\n",
              "      <th>25</th>\n",
              "      <th>26</th>\n",
              "      <th>27</th>\n",
              "      <th>28</th>\n",
              "      <th>29</th>\n",
              "      <th>30</th>\n",
              "      <th>31</th>\n",
              "      <th>32</th>\n",
              "      <th>33</th>\n",
              "      <th>34</th>\n",
              "      <th>35</th>\n",
              "      <th>36</th>\n",
              "      <th>37</th>\n",
              "      <th>38</th>\n",
              "      <th>...</th>\n",
              "      <th>89</th>\n",
              "      <th>90</th>\n",
              "      <th>91</th>\n",
              "      <th>92</th>\n",
              "      <th>93</th>\n",
              "      <th>94</th>\n",
              "      <th>95</th>\n",
              "      <th>96</th>\n",
              "      <th>97</th>\n",
              "      <th>98</th>\n",
              "      <th>99</th>\n",
              "      <th>100</th>\n",
              "      <th>101</th>\n",
              "      <th>102</th>\n",
              "      <th>103</th>\n",
              "      <th>104</th>\n",
              "      <th>105</th>\n",
              "      <th>106</th>\n",
              "      <th>107</th>\n",
              "      <th>108</th>\n",
              "      <th>109</th>\n",
              "      <th>110</th>\n",
              "      <th>111</th>\n",
              "      <th>112</th>\n",
              "      <th>113</th>\n",
              "      <th>114</th>\n",
              "      <th>115</th>\n",
              "      <th>116</th>\n",
              "      <th>117</th>\n",
              "      <th>118</th>\n",
              "      <th>119</th>\n",
              "      <th>120</th>\n",
              "      <th>121</th>\n",
              "      <th>122</th>\n",
              "      <th>123</th>\n",
              "      <th>124</th>\n",
              "      <th>125</th>\n",
              "      <th>126</th>\n",
              "      <th>127</th>\n",
              "      <th>target</th>\n",
              "    </tr>\n",
              "  </thead>\n",
              "  <tbody>\n",
              "    <tr>\n",
              "      <th>13</th>\n",
              "      <td>13</td>\n",
              "      <td>-1.413975</td>\n",
              "      <td>-0.971029</td>\n",
              "      <td>-0.760367</td>\n",
              "      <td>0.119010</td>\n",
              "      <td>0.836146</td>\n",
              "      <td>0.889640</td>\n",
              "      <td>0.248453</td>\n",
              "      <td>1.459031</td>\n",
              "      <td>0.857749</td>\n",
              "      <td>0.069923</td>\n",
              "      <td>-0.031315</td>\n",
              "      <td>-1.952145</td>\n",
              "      <td>-1.477585</td>\n",
              "      <td>0.205472</td>\n",
              "      <td>0.302617</td>\n",
              "      <td>0.805768</td>\n",
              "      <td>1.251030</td>\n",
              "      <td>-0.276663</td>\n",
              "      <td>-0.883775</td>\n",
              "      <td>-0.018271</td>\n",
              "      <td>0.880210</td>\n",
              "      <td>-0.720074</td>\n",
              "      <td>0.184486</td>\n",
              "      <td>1.243186</td>\n",
              "      <td>-1.288553</td>\n",
              "      <td>1.213295</td>\n",
              "      <td>1.469310</td>\n",
              "      <td>0.107159</td>\n",
              "      <td>-1.445446</td>\n",
              "      <td>0.324325</td>\n",
              "      <td>-0.390331</td>\n",
              "      <td>1.420413</td>\n",
              "      <td>-0.683057</td>\n",
              "      <td>0.546319</td>\n",
              "      <td>0.744603</td>\n",
              "      <td>0.939686</td>\n",
              "      <td>-0.881384</td>\n",
              "      <td>-1.826827</td>\n",
              "      <td>0.727844</td>\n",
              "      <td>...</td>\n",
              "      <td>0.030136</td>\n",
              "      <td>1.052892</td>\n",
              "      <td>0.269275</td>\n",
              "      <td>-0.904665</td>\n",
              "      <td>0.743418</td>\n",
              "      <td>-0.528178</td>\n",
              "      <td>1.639574</td>\n",
              "      <td>-1.464742</td>\n",
              "      <td>0.037048</td>\n",
              "      <td>-1.288997</td>\n",
              "      <td>1.325846</td>\n",
              "      <td>-0.296700</td>\n",
              "      <td>0.810272</td>\n",
              "      <td>0.154281</td>\n",
              "      <td>-0.564372</td>\n",
              "      <td>-0.336617</td>\n",
              "      <td>-1.701875</td>\n",
              "      <td>-1.255124</td>\n",
              "      <td>-0.131423</td>\n",
              "      <td>0.531112</td>\n",
              "      <td>0.265101</td>\n",
              "      <td>-0.670167</td>\n",
              "      <td>-0.105735</td>\n",
              "      <td>0.910796</td>\n",
              "      <td>1.158256</td>\n",
              "      <td>-0.497949</td>\n",
              "      <td>-1.445880</td>\n",
              "      <td>0.311329</td>\n",
              "      <td>0.307403</td>\n",
              "      <td>0.403381</td>\n",
              "      <td>-0.243615</td>\n",
              "      <td>-0.584178</td>\n",
              "      <td>0.211148</td>\n",
              "      <td>1.035493</td>\n",
              "      <td>-1.433141</td>\n",
              "      <td>-0.744511</td>\n",
              "      <td>0.217167</td>\n",
              "      <td>2.473378</td>\n",
              "      <td>-0.657083</td>\n",
              "      <td>MarkZuckerberg</td>\n",
              "    </tr>\n",
              "    <tr>\n",
              "      <th>14</th>\n",
              "      <td>14</td>\n",
              "      <td>-1.806113</td>\n",
              "      <td>-0.806476</td>\n",
              "      <td>-1.326948</td>\n",
              "      <td>0.276126</td>\n",
              "      <td>2.023107</td>\n",
              "      <td>1.331942</td>\n",
              "      <td>-0.168979</td>\n",
              "      <td>1.900950</td>\n",
              "      <td>2.190738</td>\n",
              "      <td>-0.412248</td>\n",
              "      <td>0.210956</td>\n",
              "      <td>-1.811059</td>\n",
              "      <td>-1.886069</td>\n",
              "      <td>-0.249668</td>\n",
              "      <td>0.155876</td>\n",
              "      <td>0.099851</td>\n",
              "      <td>0.533211</td>\n",
              "      <td>-0.864757</td>\n",
              "      <td>-1.556120</td>\n",
              "      <td>0.600623</td>\n",
              "      <td>0.551712</td>\n",
              "      <td>-0.139525</td>\n",
              "      <td>-0.052810</td>\n",
              "      <td>0.818905</td>\n",
              "      <td>-0.970396</td>\n",
              "      <td>1.509520</td>\n",
              "      <td>1.912179</td>\n",
              "      <td>-0.048065</td>\n",
              "      <td>-0.589924</td>\n",
              "      <td>-0.236365</td>\n",
              "      <td>-0.158887</td>\n",
              "      <td>1.095656</td>\n",
              "      <td>-0.430792</td>\n",
              "      <td>-0.492466</td>\n",
              "      <td>0.608074</td>\n",
              "      <td>0.761415</td>\n",
              "      <td>-1.295833</td>\n",
              "      <td>-1.589807</td>\n",
              "      <td>0.656779</td>\n",
              "      <td>...</td>\n",
              "      <td>-0.574006</td>\n",
              "      <td>0.436459</td>\n",
              "      <td>-1.255605</td>\n",
              "      <td>-0.673909</td>\n",
              "      <td>0.307335</td>\n",
              "      <td>-1.550394</td>\n",
              "      <td>1.575882</td>\n",
              "      <td>-2.927403</td>\n",
              "      <td>0.550684</td>\n",
              "      <td>-1.043148</td>\n",
              "      <td>1.179827</td>\n",
              "      <td>-0.888166</td>\n",
              "      <td>0.228334</td>\n",
              "      <td>-0.058562</td>\n",
              "      <td>-0.086999</td>\n",
              "      <td>-0.943446</td>\n",
              "      <td>-1.073898</td>\n",
              "      <td>-0.544711</td>\n",
              "      <td>-0.594598</td>\n",
              "      <td>0.322870</td>\n",
              "      <td>0.678714</td>\n",
              "      <td>-0.429804</td>\n",
              "      <td>0.224337</td>\n",
              "      <td>1.305628</td>\n",
              "      <td>-0.081639</td>\n",
              "      <td>0.389659</td>\n",
              "      <td>-0.741850</td>\n",
              "      <td>-0.209244</td>\n",
              "      <td>-0.183526</td>\n",
              "      <td>0.597094</td>\n",
              "      <td>0.029935</td>\n",
              "      <td>0.149080</td>\n",
              "      <td>0.725910</td>\n",
              "      <td>0.484980</td>\n",
              "      <td>-0.464365</td>\n",
              "      <td>-0.595427</td>\n",
              "      <td>0.325190</td>\n",
              "      <td>2.185082</td>\n",
              "      <td>0.309907</td>\n",
              "      <td>MarkZuckerberg</td>\n",
              "    </tr>\n",
              "    <tr>\n",
              "      <th>15</th>\n",
              "      <td>15</td>\n",
              "      <td>-1.472212</td>\n",
              "      <td>-0.856085</td>\n",
              "      <td>-0.747762</td>\n",
              "      <td>0.029967</td>\n",
              "      <td>1.158042</td>\n",
              "      <td>0.861021</td>\n",
              "      <td>0.110202</td>\n",
              "      <td>1.579154</td>\n",
              "      <td>0.994632</td>\n",
              "      <td>0.096906</td>\n",
              "      <td>0.250704</td>\n",
              "      <td>-2.046972</td>\n",
              "      <td>-1.418715</td>\n",
              "      <td>0.089015</td>\n",
              "      <td>0.601160</td>\n",
              "      <td>0.650919</td>\n",
              "      <td>1.075069</td>\n",
              "      <td>-0.459418</td>\n",
              "      <td>-1.047965</td>\n",
              "      <td>0.101723</td>\n",
              "      <td>0.842957</td>\n",
              "      <td>-0.712920</td>\n",
              "      <td>0.223088</td>\n",
              "      <td>1.593712</td>\n",
              "      <td>-1.258485</td>\n",
              "      <td>1.174881</td>\n",
              "      <td>1.490068</td>\n",
              "      <td>0.236134</td>\n",
              "      <td>-1.492898</td>\n",
              "      <td>-0.082220</td>\n",
              "      <td>-0.445844</td>\n",
              "      <td>1.297713</td>\n",
              "      <td>-0.845896</td>\n",
              "      <td>0.514223</td>\n",
              "      <td>0.625670</td>\n",
              "      <td>1.101052</td>\n",
              "      <td>-0.848666</td>\n",
              "      <td>-1.918707</td>\n",
              "      <td>0.864064</td>\n",
              "      <td>...</td>\n",
              "      <td>-0.074573</td>\n",
              "      <td>1.245504</td>\n",
              "      <td>0.167900</td>\n",
              "      <td>-0.818234</td>\n",
              "      <td>0.783361</td>\n",
              "      <td>-0.398562</td>\n",
              "      <td>1.552746</td>\n",
              "      <td>-1.375349</td>\n",
              "      <td>0.097413</td>\n",
              "      <td>-1.192254</td>\n",
              "      <td>1.412511</td>\n",
              "      <td>-0.418067</td>\n",
              "      <td>0.650784</td>\n",
              "      <td>0.158866</td>\n",
              "      <td>-0.437585</td>\n",
              "      <td>-0.322840</td>\n",
              "      <td>-1.534139</td>\n",
              "      <td>-1.004055</td>\n",
              "      <td>0.013246</td>\n",
              "      <td>0.574832</td>\n",
              "      <td>0.395206</td>\n",
              "      <td>-0.705836</td>\n",
              "      <td>-0.145654</td>\n",
              "      <td>0.942209</td>\n",
              "      <td>0.928776</td>\n",
              "      <td>-0.258336</td>\n",
              "      <td>-1.408133</td>\n",
              "      <td>0.297274</td>\n",
              "      <td>0.420300</td>\n",
              "      <td>0.470280</td>\n",
              "      <td>-0.210223</td>\n",
              "      <td>-0.600763</td>\n",
              "      <td>0.210918</td>\n",
              "      <td>1.059064</td>\n",
              "      <td>-1.350380</td>\n",
              "      <td>-0.773380</td>\n",
              "      <td>0.086481</td>\n",
              "      <td>2.554627</td>\n",
              "      <td>-0.548303</td>\n",
              "      <td>MarkZuckerberg</td>\n",
              "    </tr>\n",
              "    <tr>\n",
              "      <th>16</th>\n",
              "      <td>16</td>\n",
              "      <td>-1.666857</td>\n",
              "      <td>-0.674972</td>\n",
              "      <td>-1.523313</td>\n",
              "      <td>-0.263358</td>\n",
              "      <td>2.057108</td>\n",
              "      <td>1.088505</td>\n",
              "      <td>-0.190231</td>\n",
              "      <td>1.713013</td>\n",
              "      <td>2.311479</td>\n",
              "      <td>-0.170720</td>\n",
              "      <td>0.306063</td>\n",
              "      <td>-1.920096</td>\n",
              "      <td>-2.082732</td>\n",
              "      <td>-0.489684</td>\n",
              "      <td>0.480702</td>\n",
              "      <td>0.265808</td>\n",
              "      <td>0.394096</td>\n",
              "      <td>-0.550350</td>\n",
              "      <td>-1.453146</td>\n",
              "      <td>0.482519</td>\n",
              "      <td>0.864380</td>\n",
              "      <td>-0.548434</td>\n",
              "      <td>-0.061394</td>\n",
              "      <td>1.029718</td>\n",
              "      <td>-0.903399</td>\n",
              "      <td>1.227599</td>\n",
              "      <td>2.047621</td>\n",
              "      <td>-0.181734</td>\n",
              "      <td>-0.795831</td>\n",
              "      <td>-0.071018</td>\n",
              "      <td>-0.339807</td>\n",
              "      <td>1.066542</td>\n",
              "      <td>-0.604614</td>\n",
              "      <td>-0.118675</td>\n",
              "      <td>0.581756</td>\n",
              "      <td>0.559410</td>\n",
              "      <td>-1.433532</td>\n",
              "      <td>-1.627762</td>\n",
              "      <td>0.654937</td>\n",
              "      <td>...</td>\n",
              "      <td>-0.410567</td>\n",
              "      <td>0.284529</td>\n",
              "      <td>-1.187712</td>\n",
              "      <td>-0.803551</td>\n",
              "      <td>0.415985</td>\n",
              "      <td>-1.268961</td>\n",
              "      <td>1.529643</td>\n",
              "      <td>-3.060236</td>\n",
              "      <td>0.188311</td>\n",
              "      <td>-1.284936</td>\n",
              "      <td>1.282841</td>\n",
              "      <td>-0.631972</td>\n",
              "      <td>0.212766</td>\n",
              "      <td>0.040545</td>\n",
              "      <td>0.295756</td>\n",
              "      <td>-0.830283</td>\n",
              "      <td>-1.065927</td>\n",
              "      <td>-0.662741</td>\n",
              "      <td>-0.347513</td>\n",
              "      <td>0.236327</td>\n",
              "      <td>0.511770</td>\n",
              "      <td>0.005307</td>\n",
              "      <td>-0.284172</td>\n",
              "      <td>1.051796</td>\n",
              "      <td>0.159612</td>\n",
              "      <td>0.121871</td>\n",
              "      <td>-0.818611</td>\n",
              "      <td>-0.190881</td>\n",
              "      <td>0.051861</td>\n",
              "      <td>0.521368</td>\n",
              "      <td>0.145928</td>\n",
              "      <td>0.293852</td>\n",
              "      <td>1.107488</td>\n",
              "      <td>0.283144</td>\n",
              "      <td>-0.649233</td>\n",
              "      <td>-1.142589</td>\n",
              "      <td>0.400611</td>\n",
              "      <td>2.352864</td>\n",
              "      <td>-0.142574</td>\n",
              "      <td>MarkZuckerberg</td>\n",
              "    </tr>\n",
              "    <tr>\n",
              "      <th>17</th>\n",
              "      <td>17</td>\n",
              "      <td>-1.357393</td>\n",
              "      <td>-1.355890</td>\n",
              "      <td>-0.978747</td>\n",
              "      <td>-0.396194</td>\n",
              "      <td>1.283796</td>\n",
              "      <td>1.155510</td>\n",
              "      <td>-0.130353</td>\n",
              "      <td>1.369700</td>\n",
              "      <td>1.016933</td>\n",
              "      <td>0.063294</td>\n",
              "      <td>0.141240</td>\n",
              "      <td>-1.913192</td>\n",
              "      <td>-1.432036</td>\n",
              "      <td>-0.057649</td>\n",
              "      <td>0.909810</td>\n",
              "      <td>1.007257</td>\n",
              "      <td>1.318857</td>\n",
              "      <td>-0.028435</td>\n",
              "      <td>-0.818055</td>\n",
              "      <td>1.153250</td>\n",
              "      <td>1.192369</td>\n",
              "      <td>-0.236103</td>\n",
              "      <td>0.710372</td>\n",
              "      <td>1.508194</td>\n",
              "      <td>-1.250530</td>\n",
              "      <td>1.180667</td>\n",
              "      <td>2.084791</td>\n",
              "      <td>0.144309</td>\n",
              "      <td>-0.893737</td>\n",
              "      <td>0.078178</td>\n",
              "      <td>-0.179173</td>\n",
              "      <td>1.346644</td>\n",
              "      <td>-0.125513</td>\n",
              "      <td>0.172100</td>\n",
              "      <td>0.495572</td>\n",
              "      <td>1.281758</td>\n",
              "      <td>-1.023089</td>\n",
              "      <td>-1.799565</td>\n",
              "      <td>0.459649</td>\n",
              "      <td>...</td>\n",
              "      <td>-0.477434</td>\n",
              "      <td>0.727441</td>\n",
              "      <td>0.108442</td>\n",
              "      <td>-0.667048</td>\n",
              "      <td>0.839706</td>\n",
              "      <td>-0.875842</td>\n",
              "      <td>1.120563</td>\n",
              "      <td>-2.200705</td>\n",
              "      <td>-0.227423</td>\n",
              "      <td>-0.884980</td>\n",
              "      <td>1.552591</td>\n",
              "      <td>-0.527273</td>\n",
              "      <td>0.820302</td>\n",
              "      <td>0.576642</td>\n",
              "      <td>-0.602384</td>\n",
              "      <td>-0.199696</td>\n",
              "      <td>-2.245900</td>\n",
              "      <td>-0.570709</td>\n",
              "      <td>0.150994</td>\n",
              "      <td>0.983571</td>\n",
              "      <td>0.088696</td>\n",
              "      <td>-0.364536</td>\n",
              "      <td>-0.281368</td>\n",
              "      <td>0.812526</td>\n",
              "      <td>0.847919</td>\n",
              "      <td>-0.102129</td>\n",
              "      <td>-0.886250</td>\n",
              "      <td>0.457190</td>\n",
              "      <td>1.100582</td>\n",
              "      <td>-0.071093</td>\n",
              "      <td>0.040946</td>\n",
              "      <td>-0.146772</td>\n",
              "      <td>1.371214</td>\n",
              "      <td>0.940575</td>\n",
              "      <td>-1.554917</td>\n",
              "      <td>-0.848017</td>\n",
              "      <td>0.398379</td>\n",
              "      <td>2.029075</td>\n",
              "      <td>-0.659682</td>\n",
              "      <td>MarkZuckerberg</td>\n",
              "    </tr>\n",
              "  </tbody>\n",
              "</table>\n",
              "<p>5 rows × 130 columns</p>\n",
              "</div>"
            ],
            "text/plain": [
              "    Unnamed: 0         0         1  ...       126       127          target\n",
              "13          13 -1.413975 -0.971029  ...  2.473378 -0.657083  MarkZuckerberg\n",
              "14          14 -1.806113 -0.806476  ...  2.185082  0.309907  MarkZuckerberg\n",
              "15          15 -1.472212 -0.856085  ...  2.554627 -0.548303  MarkZuckerberg\n",
              "16          16 -1.666857 -0.674972  ...  2.352864 -0.142574  MarkZuckerberg\n",
              "17          17 -1.357393 -1.355890  ...  2.029075 -0.659682  MarkZuckerberg\n",
              "\n",
              "[5 rows x 130 columns]"
            ]
          },
          "metadata": {
            "tags": []
          },
          "execution_count": 184
        }
      ]
    },
    {
      "cell_type": "code",
      "metadata": {
        "id": "rbNq3FCqqGVd"
      },
      "source": [
        "df_val.drop(df.columns[[0]],axis=1,inplace=True)\n",
        "valX = np.array(df_val.drop(\"target\", axis=1))\n",
        "valY = np.array(df_val.target)"
      ],
      "execution_count": null,
      "outputs": []
    },
    {
      "cell_type": "code",
      "metadata": {
        "id": "cWyenBR6qvt1",
        "outputId": "5ce5de9b-7bfb-4e7c-be92-bc8a96aa03f6",
        "colab": {
          "base_uri": "https://localhost:8080/",
          "height": 34
        }
      },
      "source": [
        "out_encoder.fit(valY)"
      ],
      "execution_count": null,
      "outputs": [
        {
          "output_type": "execute_result",
          "data": {
            "text/plain": [
              "LabelEncoder()"
            ]
          },
          "metadata": {
            "tags": []
          },
          "execution_count": 186
        }
      ]
    },
    {
      "cell_type": "code",
      "metadata": {
        "id": "sv_jRzd2q5wK"
      },
      "source": [
        "valY = out_encoder.transform(valY)"
      ],
      "execution_count": null,
      "outputs": []
    },
    {
      "cell_type": "markdown",
      "metadata": {
        "id": "CCDeVbS4sGfT"
      },
      "source": [
        "## Avalaindo algorítmos"
      ]
    },
    {
      "cell_type": "code",
      "metadata": {
        "id": "27KIZh8AsKl5"
      },
      "source": [
        "from sklearn.neighbors import KNeighborsClassifier"
      ],
      "execution_count": null,
      "outputs": []
    },
    {
      "cell_type": "code",
      "metadata": {
        "id": "0pqL4BaOszZT"
      },
      "source": [
        "knn = KNeighborsClassifier(n_neighbors=5)"
      ],
      "execution_count": null,
      "outputs": []
    },
    {
      "cell_type": "code",
      "metadata": {
        "id": "FahH66pBs3ov",
        "outputId": "b8cc0ac1-7291-4ac1-92ea-e24dd229eb89",
        "colab": {
          "base_uri": "https://localhost:8080/",
          "height": 68
        }
      },
      "source": [
        "knn.fit(trainX, trainY)"
      ],
      "execution_count": null,
      "outputs": [
        {
          "output_type": "execute_result",
          "data": {
            "text/plain": [
              "KNeighborsClassifier(algorithm='auto', leaf_size=30, metric='minkowski',\n",
              "                     metric_params=None, n_jobs=None, n_neighbors=5, p=2,\n",
              "                     weights='uniform')"
            ]
          },
          "metadata": {
            "tags": []
          },
          "execution_count": 190
        }
      ]
    },
    {
      "cell_type": "code",
      "metadata": {
        "id": "V6G_LfO_s93w"
      },
      "source": [
        "yhat_train = knn.predict(trainX)  \n",
        "yhat_val   = knn.predict(valX)"
      ],
      "execution_count": null,
      "outputs": []
    },
    {
      "cell_type": "code",
      "metadata": {
        "id": "rzBFMCNKtJlI",
        "outputId": "56a140ca-1c48-465a-be37-970e94d03e0f",
        "colab": {
          "base_uri": "https://localhost:8080/",
          "height": 34
        }
      },
      "source": [
        "yhat_val"
      ],
      "execution_count": null,
      "outputs": [
        {
          "output_type": "execute_result",
          "data": {
            "text/plain": [
              "array([0, 0, 0, 0, 0, 0, 1, 1, 1, 1, 1, 1, 2, 2, 2, 2, 2, 2])"
            ]
          },
          "metadata": {
            "tags": []
          },
          "execution_count": 192
        }
      ]
    },
    {
      "cell_type": "code",
      "metadata": {
        "id": "eHHTuQobWH6g"
      },
      "source": [
        "from sklearn.metrics import confusion_matrix"
      ],
      "execution_count": null,
      "outputs": []
    },
    {
      "cell_type": "code",
      "metadata": {
        "id": "SOfJzxShWMqM"
      },
      "source": [
        "def print_confusion_matrix(model_name, valY, yhat_val):\n",
        "\n",
        "  cm = confusion_matrix(valY, yhat_val)\n",
        "  total = sum(sum(cm))\n",
        "  acc = (cm[0,0] + cm[1,1])/ total\n",
        "  sensitivity = cm[0,0] / (cm[0, 0] + cm[0, 1])\n",
        "  specifity = cm[1,1] / (cm[1, 0] + cm[1,1])\n",
        "\n",
        "  print(\"MODELO : {}\".format(model_name))\n",
        "  print(\"Acurácia : {:.4f}\".format(acc))\n",
        "  print(\"Sensitividade: {:.4f}\".format(sensitivity))\n",
        "  print(\"Especificidade: {:.4f}\".format(specifity))\n",
        "\n",
        "  from mlxtend.plotting import plot_confusion_matrix\n",
        "  fig, ax = plot_confusion_matrix(conf_mat=cm, figsize=(5,5))\n",
        "  plt.show()"
      ],
      "execution_count": null,
      "outputs": []
    },
    {
      "cell_type": "code",
      "metadata": {
        "id": "AFwtkw83Xe-X",
        "outputId": "526d4a8e-35cf-44cd-d101-7063c7e26589",
        "colab": {
          "base_uri": "https://localhost:8080/",
          "height": 402
        }
      },
      "source": [
        "print_confusion_matrix(\"KNN\", valY, yhat_val)"
      ],
      "execution_count": null,
      "outputs": [
        {
          "output_type": "stream",
          "text": [
            "MODELO : KNN\n",
            "Acurácia : 0.6667\n",
            "Sensitividade: 1.0000\n",
            "Especificidade: 1.0000\n"
          ],
          "name": "stdout"
        },
        {
          "output_type": "display_data",
          "data": {
            "image/png": "[encoded data removed]",
            "text/plain": [
              "<Figure size 360x360 with 1 Axes>"
            ]
          },
          "metadata": {
            "tags": [],
            "needs_background": "light"
          }
        }
      ]
    },
    {
      "cell_type": "markdown",
      "metadata": {
        "id": "U9r6j2dcZuu-"
      },
      "source": [
        "## SVM"
      ]
    },
    {
      "cell_type": "code",
      "metadata": {
        "id": "Ivf79FC4Zyg2"
      },
      "source": [
        "from sklearn import svm"
      ],
      "execution_count": null,
      "outputs": []
    },
    {
      "cell_type": "code",
      "metadata": {
        "id": "-dXr3y4CaTq3"
      },
      "source": [
        "svm = svm.SVC()"
      ],
      "execution_count": null,
      "outputs": []
    },
    {
      "cell_type": "code",
      "metadata": {
        "id": "JNo70B5ZacX1",
        "outputId": "cfc3f0a4-bb37-41ac-e476-5b3ab30e2f45",
        "colab": {
          "base_uri": "https://localhost:8080/",
          "height": 85
        }
      },
      "source": [
        "svm.fit(trainX, trainY)"
      ],
      "execution_count": null,
      "outputs": [
        {
          "output_type": "execute_result",
          "data": {
            "text/plain": [
              "SVC(C=1.0, break_ties=False, cache_size=200, class_weight=None, coef0=0.0,\n",
              "    decision_function_shape='ovr', degree=3, gamma='scale', kernel='rbf',\n",
              "    max_iter=-1, probability=False, random_state=None, shrinking=True,\n",
              "    tol=0.001, verbose=False)"
            ]
          },
          "metadata": {
            "tags": []
          },
          "execution_count": 198
        }
      ]
    },
    {
      "cell_type": "code",
      "metadata": {
        "id": "S_-QWlzUafeI"
      },
      "source": [
        "yhat_train = svm.predict(trainX)  \n",
        "yhat_val   = svm.predict(valX)"
      ],
      "execution_count": null,
      "outputs": []
    },
    {
      "cell_type": "code",
      "metadata": {
        "id": "7z1fl1puakiZ",
        "outputId": "1433419a-c65f-4ce4-a519-41367b713fcd",
        "colab": {
          "base_uri": "https://localhost:8080/",
          "height": 402
        }
      },
      "source": [
        "print_confusion_matrix(\"SVM\", valY, yhat_val)"
      ],
      "execution_count": null,
      "outputs": [
        {
          "output_type": "stream",
          "text": [
            "MODELO : SVM\n",
            "Acurácia : 0.6667\n",
            "Sensitividade: 1.0000\n",
            "Especificidade: 1.0000\n"
          ],
          "name": "stdout"
        },
        {
          "output_type": "display_data",
          "data": {
            "image/png": "[encoded data removed]",
            "text/plain": [
              "<Figure size 360x360 with 1 Axes>"
            ]
          },
          "metadata": {
            "tags": [],
            "needs_background": "light"
          }
        }
      ]
    },
    {
      "cell_type": "code",
      "metadata": {
        "id": "tWokVRhYcNfy"
      },
      "source": [
        ""
      ],
      "execution_count": null,
      "outputs": []
    },
    {
      "cell_type": "markdown",
      "metadata": {
        "id": "BPH1_eYYcsOg"
      },
      "source": [
        "## Usando Keras"
      ]
    },
    {
      "cell_type": "code",
      "metadata": {
        "id": "fHoMbU_3crSc"
      },
      "source": [
        "from tensorflow.keras.utils import to_categorical"
      ],
      "execution_count": null,
      "outputs": []
    },
    {
      "cell_type": "code",
      "metadata": {
        "id": "nqpQWp37jfua",
        "outputId": "99165c1b-04b0-4857-821e-7bfac2f1bf0f",
        "colab": {
          "base_uri": "https://localhost:8080/",
          "height": 34
        }
      },
      "source": [
        "trainY"
      ],
      "execution_count": null,
      "outputs": [
        {
          "output_type": "execute_result",
          "data": {
            "text/plain": [
              "array([0, 1, 1, 1, 2, 0, 0, 2, 2, 1, 1, 2, 1, 0, 0, 0, 2, 2])"
            ]
          },
          "metadata": {
            "tags": []
          },
          "execution_count": 202
        }
      ]
    },
    {
      "cell_type": "code",
      "metadata": {
        "id": "uWjoa-TlcrXI"
      },
      "source": [
        "trainY = to_categorical(trainY, 3)"
      ],
      "execution_count": null,
      "outputs": []
    },
    {
      "cell_type": "code",
      "metadata": {
        "id": "OPNYyxF4jXfh",
        "outputId": "ed49dae8-ed6d-44d0-feab-9d0a124ca01a",
        "colab": {
          "base_uri": "https://localhost:8080/",
          "height": 34
        }
      },
      "source": [
        "valY"
      ],
      "execution_count": null,
      "outputs": [
        {
          "output_type": "execute_result",
          "data": {
            "text/plain": [
              "array([0, 0, 0, 0, 0, 0, 1, 1, 1, 1, 1, 1, 2, 2, 2, 2, 2, 2])"
            ]
          },
          "metadata": {
            "tags": []
          },
          "execution_count": 204
        }
      ]
    },
    {
      "cell_type": "code",
      "metadata": {
        "id": "15vhEkoHc3PW"
      },
      "source": [
        "valY = to_categorical(valY, 3)"
      ],
      "execution_count": null,
      "outputs": []
    },
    {
      "cell_type": "code",
      "metadata": {
        "id": "lDnnNC0fc6ta"
      },
      "source": [
        "from tensorflow.keras import  models\n",
        "from tensorflow.keras import layers"
      ],
      "execution_count": null,
      "outputs": []
    },
    {
      "cell_type": "code",
      "metadata": {
        "id": "-fverfWqdA7h",
        "outputId": "08a2f1d3-3627-4788-b4f9-315c5d022978",
        "colab": {
          "base_uri": "https://localhost:8080/",
          "height": 255
        }
      },
      "source": [
        "model = models.Sequential()\n",
        "model.add(layers.Dense(64, activation=\"relu\", input_shape=(128,)))\n",
        "model.add(layers.Dropout(0.5))\n",
        "model.add(layers.Dense(3, activation=\"softmax\")) #Colocar a quantidade de classes aqui\n",
        "\n",
        "model.summary()"
      ],
      "execution_count": null,
      "outputs": [
        {
          "output_type": "stream",
          "text": [
            "Model: \"sequential_3\"\n",
            "_________________________________________________________________\n",
            "Layer (type)                 Output Shape              Param #   \n",
            "=================================================================\n",
            "dense_6 (Dense)              (None, 64)                8256      \n",
            "_________________________________________________________________\n",
            "dropout_3 (Dropout)          (None, 64)                0         \n",
            "_________________________________________________________________\n",
            "dense_7 (Dense)              (None, 3)                 195       \n",
            "=================================================================\n",
            "Total params: 8,451\n",
            "Trainable params: 8,451\n",
            "Non-trainable params: 0\n",
            "_________________________________________________________________\n"
          ],
          "name": "stdout"
        }
      ]
    },
    {
      "cell_type": "code",
      "metadata": {
        "id": "w9BPscq8eFrU"
      },
      "source": [
        "model.compile(optimizer=\"adam\", loss=\"categorical_crossentropy\", metrics=['accuracy'])"
      ],
      "execution_count": null,
      "outputs": []
    },
    {
      "cell_type": "code",
      "metadata": {
        "id": "QZnygrF-mvvI",
        "outputId": "97618020-583f-46f0-ea18-abdb0f2093f0",
        "colab": {
          "base_uri": "https://localhost:8080/",
          "height": 238
        }
      },
      "source": [
        "trainX"
      ],
      "execution_count": null,
      "outputs": [
        {
          "output_type": "execute_result",
          "data": {
            "text/plain": [
              "array([[-1.2524968 ,  0.6043868 , -0.38333088, ..., -1.6152943 ,\n",
              "        -0.905433  ,  0.51285756],\n",
              "       [-1.2525052 ,  0.634516  , -0.09817094, ..., -0.7813202 ,\n",
              "         2.1505768 ,  0.01328453],\n",
              "       [-0.40144083,  0.85655785,  0.847138  , ..., -0.7936352 ,\n",
              "         0.9955149 , -0.20686355],\n",
              "       ...,\n",
              "       [-0.8026322 , -0.2823723 , -0.686766  , ..., -1.1368806 ,\n",
              "        -0.85431236,  0.26396576],\n",
              "       [-1.472212  , -0.8560846 , -0.7477625 , ...,  0.08648055,\n",
              "         2.5546267 , -0.5483029 ],\n",
              "       [-1.4541013 , -1.1896234 , -1.19844   , ...,  0.5041103 ,\n",
              "         1.8826374 , -0.71643883]])"
            ]
          },
          "metadata": {
            "tags": []
          },
          "execution_count": 209
        }
      ]
    },
    {
      "cell_type": "code",
      "metadata": {
        "id": "nZeD_bmFmvK5"
      },
      "source": [
        ""
      ],
      "execution_count": null,
      "outputs": []
    },
    {
      "cell_type": "code",
      "metadata": {
        "id": "l6q-fU5yeQdQ"
      },
      "source": [
        "model.fit(trainX, trainY, epochs=100, batch_size=8)"
      ],
      "execution_count": null,
      "outputs": []
    },
    {
      "cell_type": "code",
      "metadata": {
        "id": "bvreDgJRe7kC"
      },
      "source": [
        "yhat_train = model.predict(trainX)\n",
        "yhat_val   = model.predict(valX)"
      ],
      "execution_count": null,
      "outputs": []
    },
    {
      "cell_type": "code",
      "metadata": {
        "id": "DFfdVN9xe-st",
        "outputId": "3021a1bd-f5ee-4f67-ae58-cdebede35b78",
        "colab": {
          "base_uri": "https://localhost:8080/",
          "height": 34
        }
      },
      "source": [
        "yhat_val = np.argmax(yhat_val, axis=1)\n",
        "yhat_val"
      ],
      "execution_count": null,
      "outputs": [
        {
          "output_type": "execute_result",
          "data": {
            "text/plain": [
              "array([0, 0, 0, 0, 0, 0, 1, 1, 1, 1, 1, 1, 2, 2, 2, 2, 2, 2])"
            ]
          },
          "metadata": {
            "tags": []
          },
          "execution_count": 212
        }
      ]
    },
    {
      "cell_type": "code",
      "metadata": {
        "id": "e-iej1ELfK3c"
      },
      "source": [
        "valY = np.argmax(valY, axis=1)"
      ],
      "execution_count": null,
      "outputs": []
    },
    {
      "cell_type": "code",
      "metadata": {
        "id": "O4fvUFHJfojY",
        "outputId": "64919c59-dfdd-4ec5-8b80-da0123f44aef",
        "colab": {
          "base_uri": "https://localhost:8080/",
          "height": 34
        }
      },
      "source": [
        "valY"
      ],
      "execution_count": null,
      "outputs": [
        {
          "output_type": "execute_result",
          "data": {
            "text/plain": [
              "array([0, 0, 0, 0, 0, 0, 1, 1, 1, 1, 1, 1, 2, 2, 2, 2, 2, 2])"
            ]
          },
          "metadata": {
            "tags": []
          },
          "execution_count": 214
        }
      ]
    },
    {
      "cell_type": "code",
      "metadata": {
        "id": "X1KE0JlVf77n",
        "outputId": "0f5d76e9-467d-46f7-b13c-e3c9846e4589",
        "colab": {
          "base_uri": "https://localhost:8080/",
          "height": 402
        }
      },
      "source": [
        "print_confusion_matrix(\"KERAS\", valY, yhat_val)"
      ],
      "execution_count": null,
      "outputs": [
        {
          "output_type": "stream",
          "text": [
            "MODELO : KERAS\n",
            "Acurácia : 0.6667\n",
            "Sensitividade: 1.0000\n",
            "Especificidade: 1.0000\n"
          ],
          "name": "stdout"
        },
        {
          "output_type": "display_data",
          "data": {
            "image/png": "[encoded data removed]",
            "text/plain": [
              "<Figure size 360x360 with 1 Axes>"
            ]
          },
          "metadata": {
            "tags": [],
            "needs_background": "light"
          }
        }
      ]
    },
    {
      "cell_type": "code",
      "metadata": {
        "id": "oA5e3srHgGfD"
      },
      "source": [
        "model.save(\"faces.h5\", )"
      ],
      "execution_count": null,
      "outputs": []
    }
  ]
}