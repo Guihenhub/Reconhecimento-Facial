{
  "nbformat": 4,
  "nbformat_minor": 0,
  "metadata": {
    "colab": {
      "name": "extract_faces.ipynb",
      "provenance": [],
      "collapsed_sections": []
    },
    "kernelspec": {
      "name": "python3",
      "display_name": "Python 3"
    }
  },
  "cells": [
    {
      "cell_type": "code",
      "metadata": {
        "id": "OacRgkPMTL4c",
        "outputId": "8adf2faa-7686-4e76-d99a-9d24b4853b7f",
        "colab": {
          "base_uri": "https://localhost:8080/",
          "height": 55
        }
      },
      "source": [
        "from google.colab import drive\n",
        "drive.mount('/content/drive')"
      ],
      "execution_count": null,
      "outputs": [
        {
          "output_type": "stream",
          "text": [
            "Drive already mounted at /content/drive; to attempt to forcibly remount, call drive.mount(\"/content/drive\", force_remount=True).\n"
          ],
          "name": "stdout"
        }
      ]
    },
    {
      "cell_type": "code",
      "metadata": {
        "id": "PNSXaHrFTApH"
      },
      "source": [
        "!pip install mtcnn"
      ],
      "execution_count": null,
      "outputs": []
    },
    {
      "cell_type": "code",
      "metadata": {
        "id": "CiccWRsUmQy4"
      },
      "source": [
        "from mtcnn import MTCNN\n",
        "from PIL import Image\n",
        "from os import listdir, mkdir\n",
        "from os.path import isdir\n",
        "from numpy import asarray\n",
        "\n",
        "detector = MTCNN()\n",
        "\n",
        "\n"
      ],
      "execution_count": null,
      "outputs": []
    },
    {
      "cell_type": "code",
      "metadata": {
        "id": "_YQHEz9gmXA8"
      },
      "source": [
        "def extrair_face(arquivo, size=(160, 160)):\n",
        "\n",
        "    img = Image.open(arquivo)\n",
        "    \n",
        "    img = img.convert('RGB')\n",
        "\n",
        "    array = asarray(img)\n",
        "\n",
        "    results = detector.detect_faces(array)\n",
        "\n",
        "    x1, y1, width, height = results[0]['box']\n",
        "\n",
        "    x2, y2 = x1 + width, y1 + height\n",
        "\n",
        "    face = array[y1:y2, x1:x2]\n",
        "\n",
        "    image = Image.fromarray(face)\n",
        "    image = image.resize(size)\n",
        "\n",
        "    return image\n",
        "\n",
        "\n",
        "def flip_image(image):\n",
        "    img = image.transpose(Image.FLIP_LEFT_RIGHT)\n",
        "\n",
        "    return img\n",
        "\n",
        "def load_fotos(directory_src, directory_target):\n",
        "    print(directory_src)\n",
        "    print(directory_target)\n",
        "\n",
        "    for filename in listdir(directory_src):\n",
        "        path    = directory_src + \"/\" + filename\n",
        "        path_tg = directory_target + \"/\" + filename\n",
        "        path_tg_flip = directory_target +  \"/\" + \"flip-\" + filename\n",
        "\n",
        "        try:\n",
        "\n",
        "            face = extrair_face(path)\n",
        "            flip = flip_image(face)\n",
        "\n",
        "            face.save(path_tg, \"JPEG\", quality=100, optimize=True, progressive=True)\n",
        "            flip.save(path_tg_flip , \"JPEG\", quality=100, optimize=True, progressive=True)\n",
        "\n",
        "\n",
        "        except:\n",
        "            print(\"Erro na imagem {}\".format(path))\n",
        "\n",
        "\n",
        "\n",
        "def load_dir(directory_src, directory_target):\n",
        "    for subdir in listdir(directory_src):\n",
        "        path = directory_src + \"/\"+ subdir \n",
        "        path_tg = directory_target + \"/\" + subdir\n",
        "        mkdir(path_tg)\n",
        "        if not isdir(path):\n",
        "            continue\n",
        "\n",
        "        print(\"OK\")\n",
        "        load_fotos(path, path_tg)\n",
        "\n",
        "\n"
      ],
      "execution_count": null,
      "outputs": []
    },
    {
      "cell_type": "code",
      "metadata": {
        "id": "-Cek2bN8mXIq",
        "outputId": "747c4122-96e4-4106-95fd-72847e28434b",
        "colab": {
          "base_uri": "https://localhost:8080/",
          "height": 85
        }
      },
      "source": [
        "if __name__ == '__main__':\n",
        "    load_dir(\"/content/drive/My Drive/Colab Notebooks/Validation\",\n",
        "             \"/content/drive/My Drive/Colab Notebooks/faces\")"
      ],
      "execution_count": null,
      "outputs": [
        {
          "output_type": "stream",
          "text": [
            "OK\n",
            "/content/drive/My Drive/Colab Notebooks/Validation/Test\n",
            "/content/drive/My Drive/Colab Notebooks/faces/Test\n",
            "Erro na imagem /content/drive/My Drive/Colab Notebooks/Validation/Test/test0.jpg\n"
          ],
          "name": "stdout"
        }
      ]
    }
  ]
}